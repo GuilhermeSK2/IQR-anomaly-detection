{
  "nbformat": 4,
  "nbformat_minor": 0,
  "metadata": {
    "colab": {
      "provenance": [],
      "authorship_tag": "ABX9TyO6L9LYa5N0C6KVwIqv9mLo"
    },
    "kernelspec": {
      "name": "python3",
      "display_name": "Python 3"
    },
    "language_info": {
      "name": "python"
    }
  },
  "cells": [
    {
      "cell_type": "code",
      "execution_count": 1,
      "metadata": {
        "id": "m5dy84ZIE2pw"
      },
      "outputs": [],
      "source": [
        "import numpy as np"
      ]
    },
    {
      "cell_type": "code",
      "source": [
        "dataset = [-100,1,2,3,4,5,6,7,8,9,100]"
      ],
      "metadata": {
        "id": "nLavsgbNFCmc"
      },
      "execution_count": 5,
      "outputs": []
    },
    {
      "cell_type": "code",
      "source": [
        "quartil1 = np.percentile(dataset, 25)\n",
        "quartil3 = np.percentile(dataset, 75)\n",
        "\n",
        "iqr = quartil3 - quartil1\n",
        "\n",
        "limite_inferior = quartil1 - 1.5 * iqr\n",
        "limite_superior = quartil3 + 1.5 * iqr\n",
        "\n",
        "outliers = []\n",
        "\n",
        "for value in dataset:\n",
        "  if value < limite_inferior or value > limite_superior:\n",
        "    outliers.append(value)\n",
        "\n",
        "print(\"Anomalias: \", outliers)"
      ],
      "metadata": {
        "colab": {
          "base_uri": "https://localhost:8080/"
        },
        "id": "KIxLSQFcFIAG",
        "outputId": "6c84c901-5eef-4cc5-ceb0-a3bccb21cbb6"
      },
      "execution_count": 6,
      "outputs": [
        {
          "output_type": "stream",
          "name": "stdout",
          "text": [
            "Anomalias:  [-100, 100]\n"
          ]
        }
      ]
    }
  ]
}